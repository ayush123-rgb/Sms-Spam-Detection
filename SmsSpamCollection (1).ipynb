{
 "cells": [
  {
   "cell_type": "code",
   "execution_count": 4,
   "id": "8ff3060c-c578-48f0-99ec-8eefbe582eda",
   "metadata": {},
   "outputs": [],
   "source": [
    "import numpy as np\n",
    "import pandas as pd"
   ]
  },
  {
   "cell_type": "code",
   "execution_count": 5,
   "id": "97498222-fcd2-489a-a7fc-d5b786c4133c",
   "metadata": {},
   "outputs": [],
   "source": [
    "dataset=pd.read_csv('C:\\\\Users\\\\HP\\\\Downloads\\\\SMSSpamCollection.csv',names=['Class','Message'])"
   ]
  },
  {
   "cell_type": "code",
   "execution_count": 6,
   "id": "c7da71d8-10e9-4114-9cfe-458fe069a9dd",
   "metadata": {},
   "outputs": [
    {
     "name": "stdout",
     "output_type": "stream",
     "text": [
      "<class 'pandas.core.frame.DataFrame'>\n",
      "RangeIndex: 5575 entries, 0 to 5574\n",
      "Data columns (total 2 columns):\n",
      " #   Column   Non-Null Count  Dtype \n",
      "---  ------   --------------  ----- \n",
      " 0   Class    5575 non-null   object\n",
      " 1   Message  5575 non-null   object\n",
      "dtypes: object(2)\n",
      "memory usage: 87.2+ KB\n"
     ]
    }
   ],
   "source": [
    "dataset.info()"
   ]
  },
  {
   "cell_type": "code",
   "execution_count": 7,
   "id": "be15590a-5176-4c23-952f-3b7e24bf60b5",
   "metadata": {},
   "outputs": [
    {
     "data": {
      "text/html": [
       "<div>\n",
       "<style scoped>\n",
       "    .dataframe tbody tr th:only-of-type {\n",
       "        vertical-align: middle;\n",
       "    }\n",
       "\n",
       "    .dataframe tbody tr th {\n",
       "        vertical-align: top;\n",
       "    }\n",
       "\n",
       "    .dataframe thead th {\n",
       "        text-align: right;\n",
       "    }\n",
       "</style>\n",
       "<table border=\"1\" class=\"dataframe\">\n",
       "  <thead>\n",
       "    <tr style=\"text-align: right;\">\n",
       "      <th></th>\n",
       "      <th>Class</th>\n",
       "      <th>Message</th>\n",
       "    </tr>\n",
       "  </thead>\n",
       "  <tbody>\n",
       "    <tr>\n",
       "      <th>count</th>\n",
       "      <td>5575</td>\n",
       "      <td>5575</td>\n",
       "    </tr>\n",
       "    <tr>\n",
       "      <th>unique</th>\n",
       "      <td>3</td>\n",
       "      <td>5160</td>\n",
       "    </tr>\n",
       "    <tr>\n",
       "      <th>top</th>\n",
       "      <td>ham</td>\n",
       "      <td>Sorry, I'll call later</td>\n",
       "    </tr>\n",
       "    <tr>\n",
       "      <th>freq</th>\n",
       "      <td>4827</td>\n",
       "      <td>30</td>\n",
       "    </tr>\n",
       "  </tbody>\n",
       "</table>\n",
       "</div>"
      ],
      "text/plain": [
       "       Class                 Message\n",
       "count   5575                    5575\n",
       "unique     3                    5160\n",
       "top      ham  Sorry, I'll call later\n",
       "freq    4827                      30"
      ]
     },
     "execution_count": 7,
     "metadata": {},
     "output_type": "execute_result"
    }
   ],
   "source": [
    "dataset.describe()"
   ]
  },
  {
   "cell_type": "code",
   "execution_count": 8,
   "id": "04c45828-0eee-4e28-9a1f-a958bda25856",
   "metadata": {},
   "outputs": [],
   "source": [
    "#This line encodes the categorical labels in the ‘Class’ column, mapping ‘ham’ to 0 and ‘spam’ to 1. \n",
    "#This transformation is essential because machine learning models require numeric inputs for both features and target variables. \n",
    "#By using map(), we efficiently convert a binary categorical variable into a numeric binary label. \n",
    "#It simplifies the classification task and ensures compatibility with scikit-learn classifiers. \n",
    "#This step also aligns with standard conventions where 1 is treated as the positive class, helping with interpretation during evaluation.\n",
    "\n",
    "dataset['Class']=dataset['Class'].map({'ham':0,'spam':1})"
   ]
  },
  {
   "cell_type": "code",
   "execution_count": 9,
   "id": "8177bbff-581e-4b6f-a94b-960a35e7e00c",
   "metadata": {},
   "outputs": [
    {
     "data": {
      "text/html": [
       "<div>\n",
       "<style scoped>\n",
       "    .dataframe tbody tr th:only-of-type {\n",
       "        vertical-align: middle;\n",
       "    }\n",
       "\n",
       "    .dataframe tbody tr th {\n",
       "        vertical-align: top;\n",
       "    }\n",
       "\n",
       "    .dataframe thead th {\n",
       "        text-align: right;\n",
       "    }\n",
       "</style>\n",
       "<table border=\"1\" class=\"dataframe\">\n",
       "  <thead>\n",
       "    <tr style=\"text-align: right;\">\n",
       "      <th></th>\n",
       "      <th>Class</th>\n",
       "      <th>Message</th>\n",
       "    </tr>\n",
       "  </thead>\n",
       "  <tbody>\n",
       "    <tr>\n",
       "      <th>0</th>\n",
       "      <td>NaN</td>\n",
       "      <td>Message</td>\n",
       "    </tr>\n",
       "    <tr>\n",
       "      <th>1</th>\n",
       "      <td>0.0</td>\n",
       "      <td>Go until jurong point, crazy.. Available only ...</td>\n",
       "    </tr>\n",
       "    <tr>\n",
       "      <th>2</th>\n",
       "      <td>0.0</td>\n",
       "      <td>Ok lar... Joking wif u oni...</td>\n",
       "    </tr>\n",
       "    <tr>\n",
       "      <th>3</th>\n",
       "      <td>1.0</td>\n",
       "      <td>Free entry in 2 a wkly comp to win FA Cup fina...</td>\n",
       "    </tr>\n",
       "    <tr>\n",
       "      <th>4</th>\n",
       "      <td>0.0</td>\n",
       "      <td>U dun say so early hor... U c already then say...</td>\n",
       "    </tr>\n",
       "    <tr>\n",
       "      <th>...</th>\n",
       "      <td>...</td>\n",
       "      <td>...</td>\n",
       "    </tr>\n",
       "    <tr>\n",
       "      <th>5570</th>\n",
       "      <td>1.0</td>\n",
       "      <td>This is the 2nd time we have tried 2 contact u...</td>\n",
       "    </tr>\n",
       "    <tr>\n",
       "      <th>5571</th>\n",
       "      <td>0.0</td>\n",
       "      <td>Will ü b going to esplanade fr home?</td>\n",
       "    </tr>\n",
       "    <tr>\n",
       "      <th>5572</th>\n",
       "      <td>0.0</td>\n",
       "      <td>Pity, * was in mood for that. So...any other s...</td>\n",
       "    </tr>\n",
       "    <tr>\n",
       "      <th>5573</th>\n",
       "      <td>0.0</td>\n",
       "      <td>The guy did some bitching but I acted like i'd...</td>\n",
       "    </tr>\n",
       "    <tr>\n",
       "      <th>5574</th>\n",
       "      <td>0.0</td>\n",
       "      <td>Rofl. Its true to its name</td>\n",
       "    </tr>\n",
       "  </tbody>\n",
       "</table>\n",
       "<p>5575 rows × 2 columns</p>\n",
       "</div>"
      ],
      "text/plain": [
       "      Class                                            Message\n",
       "0       NaN                                            Message\n",
       "1       0.0  Go until jurong point, crazy.. Available only ...\n",
       "2       0.0                      Ok lar... Joking wif u oni...\n",
       "3       1.0  Free entry in 2 a wkly comp to win FA Cup fina...\n",
       "4       0.0  U dun say so early hor... U c already then say...\n",
       "...     ...                                                ...\n",
       "5570    1.0  This is the 2nd time we have tried 2 contact u...\n",
       "5571    0.0               Will ü b going to esplanade fr home?\n",
       "5572    0.0  Pity, * was in mood for that. So...any other s...\n",
       "5573    0.0  The guy did some bitching but I acted like i'd...\n",
       "5574    0.0                         Rofl. Its true to its name\n",
       "\n",
       "[5575 rows x 2 columns]"
      ]
     },
     "execution_count": 9,
     "metadata": {},
     "output_type": "execute_result"
    }
   ],
   "source": [
    "dataset"
   ]
  },
  {
   "cell_type": "code",
   "execution_count": 10,
   "id": "47cfcc88-d829-42e9-8c19-4fd37c2cbfbc",
   "metadata": {},
   "outputs": [],
   "source": [
    "import matplotlib.pyplot as plt\n",
    "import seaborn as sns\n",
    "%matplotlib inline"
   ]
  },
  {
   "cell_type": "code",
   "execution_count": 11,
   "id": "2fbdabae-a957-4175-8f6a-7be80c574717",
   "metadata": {},
   "outputs": [
    {
     "data": {
      "text/plain": [
       "Text(0, 0.5, 'Count')"
      ]
     },
     "execution_count": 11,
     "metadata": {},
     "output_type": "execute_result"
    },
    {
     "data": {
      "image/png": "[encoded data removed]",
      "text/plain": [
       "<Figure size 800x800 with 1 Axes>"
      ]
     },
     "metadata": {},
     "output_type": "display_data"
    }
   ],
   "source": [
    "plt.figure(figsize=(8,8))\n",
    "g=sns.countplot(x=\"Class\", data=dataset)\n",
    "plt.title('Countplot for Spam vs Ham')\n",
    "plt.xlabel('Is the SMS Spam?')\n",
    "plt.ylabel('Count')"
   ]
  },
  {
   "cell_type": "code",
   "execution_count": 12,
   "id": "d7467ead-a5e2-47a1-bb92-39e9a5950d96",
   "metadata": {},
   "outputs": [],
   "source": [
    "#This line filters the original dataset to extract only those rows where the label is spam (i.e., where the 'Class' is 1). \n",
    "#It helps in isolating spam messages for targeted analysis, such as understanding common patterns, preprocessing steps specific to spam,\n",
    "#or visualizing frequent spam-related terms.\n",
    "#Filtering by class like this is a crucial part of binary classification workflows, especially when class imbalance or interpretability is a concern.\n",
    "\n",
    "only_spam=dataset[dataset['Class']==1]"
   ]
  },
  {
   "cell_type": "code",
   "execution_count": 13,
   "id": "55fa88f2-203d-4fa0-8b3b-d89a7a8b983c",
   "metadata": {},
   "outputs": [
    {
     "data": {
      "text/html": [
       "<div>\n",
       "<style scoped>\n",
       "    .dataframe tbody tr th:only-of-type {\n",
       "        vertical-align: middle;\n",
       "    }\n",
       "\n",
       "    .dataframe tbody tr th {\n",
       "        vertical-align: top;\n",
       "    }\n",
       "\n",
       "    .dataframe thead th {\n",
       "        text-align: right;\n",
       "    }\n",
       "</style>\n",
       "<table border=\"1\" class=\"dataframe\">\n",
       "  <thead>\n",
       "    <tr style=\"text-align: right;\">\n",
       "      <th></th>\n",
       "      <th>Class</th>\n",
       "      <th>Message</th>\n",
       "    </tr>\n",
       "  </thead>\n",
       "  <tbody>\n",
       "    <tr>\n",
       "      <th>3</th>\n",
       "      <td>1.0</td>\n",
       "      <td>Free entry in 2 a wkly comp to win FA Cup fina...</td>\n",
       "    </tr>\n",
       "    <tr>\n",
       "      <th>6</th>\n",
       "      <td>1.0</td>\n",
       "      <td>FreeMsg Hey there darling it's been 3 week's n...</td>\n",
       "    </tr>\n",
       "    <tr>\n",
       "      <th>9</th>\n",
       "      <td>1.0</td>\n",
       "      <td>WINNER!! As a valued network customer you have...</td>\n",
       "    </tr>\n",
       "    <tr>\n",
       "      <th>10</th>\n",
       "      <td>1.0</td>\n",
       "      <td>Had your mobile 11 months or more? U R entitle...</td>\n",
       "    </tr>\n",
       "    <tr>\n",
       "      <th>12</th>\n",
       "      <td>1.0</td>\n",
       "      <td>SIX chances to win CASH! From 100 to 20,000 po...</td>\n",
       "    </tr>\n",
       "    <tr>\n",
       "      <th>...</th>\n",
       "      <td>...</td>\n",
       "      <td>...</td>\n",
       "    </tr>\n",
       "    <tr>\n",
       "      <th>5540</th>\n",
       "      <td>1.0</td>\n",
       "      <td>Want explicit SEX in 30 secs? Ring 02073162414...</td>\n",
       "    </tr>\n",
       "    <tr>\n",
       "      <th>5543</th>\n",
       "      <td>1.0</td>\n",
       "      <td>ASKED 3MOBILE IF 0870 CHATLINES INCLU IN FREE ...</td>\n",
       "    </tr>\n",
       "    <tr>\n",
       "      <th>5550</th>\n",
       "      <td>1.0</td>\n",
       "      <td>Had your contract mobile 11 Mnths? Latest Moto...</td>\n",
       "    </tr>\n",
       "    <tr>\n",
       "      <th>5569</th>\n",
       "      <td>1.0</td>\n",
       "      <td>REMINDER FROM O2: To get 2.50 pounds free call...</td>\n",
       "    </tr>\n",
       "    <tr>\n",
       "      <th>5570</th>\n",
       "      <td>1.0</td>\n",
       "      <td>This is the 2nd time we have tried 2 contact u...</td>\n",
       "    </tr>\n",
       "  </tbody>\n",
       "</table>\n",
       "<p>747 rows × 2 columns</p>\n",
       "</div>"
      ],
      "text/plain": [
       "      Class                                            Message\n",
       "3       1.0  Free entry in 2 a wkly comp to win FA Cup fina...\n",
       "6       1.0  FreeMsg Hey there darling it's been 3 week's n...\n",
       "9       1.0  WINNER!! As a valued network customer you have...\n",
       "10      1.0  Had your mobile 11 months or more? U R entitle...\n",
       "12      1.0  SIX chances to win CASH! From 100 to 20,000 po...\n",
       "...     ...                                                ...\n",
       "5540    1.0  Want explicit SEX in 30 secs? Ring 02073162414...\n",
       "5543    1.0  ASKED 3MOBILE IF 0870 CHATLINES INCLU IN FREE ...\n",
       "5550    1.0  Had your contract mobile 11 Mnths? Latest Moto...\n",
       "5569    1.0  REMINDER FROM O2: To get 2.50 pounds free call...\n",
       "5570    1.0  This is the 2nd time we have tried 2 contact u...\n",
       "\n",
       "[747 rows x 2 columns]"
      ]
     },
     "execution_count": 13,
     "metadata": {},
     "output_type": "execute_result"
    }
   ],
   "source": [
    "only_spam"
   ]
  },
  {
   "cell_type": "code",
   "execution_count": 14,
   "id": "f7fbfbb2-60df-47de-b20d-216b2337133c",
   "metadata": {},
   "outputs": [
    {
     "name": "stdout",
     "output_type": "stream",
     "text": [
      "No. of Spam SMS:  747\n",
      "No. of Ham SMS:  4828\n"
     ]
    }
   ],
   "source": [
    "print('No. of Spam SMS: ', len(only_spam))\n",
    "print('No. of Ham SMS: ', len(dataset)-len(only_spam))"
   ]
  },
  {
   "cell_type": "code",
   "execution_count": 15,
   "id": "faf4d060-dd14-4946-9c40-cece06cd46bf",
   "metadata": {},
   "outputs": [],
   "source": [
    "count=int((dataset.shape[0]-only_spam.shape[0])/only_spam.shape[0])"
   ]
  },
  {
   "cell_type": "code",
   "execution_count": 16,
   "id": "c6d7476b-3073-43d2-bde0-c5b33b315665",
   "metadata": {},
   "outputs": [
    {
     "data": {
      "text/plain": [
       "6"
      ]
     },
     "execution_count": 16,
     "metadata": {},
     "output_type": "execute_result"
    }
   ],
   "source": [
    "count"
   ]
  },
  {
   "cell_type": "code",
   "execution_count": 17,
   "id": "0c7a0f73-57bd-492e-9f78-0930a081178f",
   "metadata": {},
   "outputs": [
    {
     "data": {
      "text/plain": [
       "(9310, 2)"
      ]
     },
     "execution_count": 17,
     "metadata": {},
     "output_type": "execute_result"
    }
   ],
   "source": [
    "#This loop duplicates the spam samples multiple times and appends them to the original dataset to address class imbalance. \n",
    "#This technique, known as oversampling, increases the representation of the minority class — spam — so the model doesn’t become \n",
    "#biased toward predicting only the majority class, ham. While this form of oversampling (via duplication) \n",
    "#is simple and helps balance the dataset quickly, it may lead to overfitting. \n",
    "#In practice, more advanced techniques like SMOTE or class weighting may be used,\n",
    "#but this method provides a fast and interpretable baseline for rebalancing\n",
    "\n",
    "for i in range(0,count-1):\n",
    "    dataset=pd.concat([dataset, only_spam])\n",
    "dataset.shape    "
   ]
  },
  {
   "cell_type": "code",
   "execution_count": 18,
   "id": "6656a02b-1ec0-411c-b432-526537560854",
   "metadata": {},
   "outputs": [
    {
     "data": {
      "text/plain": [
       "Text(0, 0.5, 'Count')"
      ]
     },
     "execution_count": 18,
     "metadata": {},
     "output_type": "execute_result"
    },
    {
     "data": {
      "image/png": "[encoded data removed]",
      "text/plain": [
       "<Figure size 800x800 with 1 Axes>"
      ]
     },
     "metadata": {},
     "output_type": "display_data"
    }
   ],
   "source": [
    "#This code visualizes the distribution of class labels — spam vs ham — after applying oversampling. Using Seaborn’s countplot, \n",
    "#it gives a quick visual confirmation of whether the dataset is balanced.\n",
    "#This is essential to ensure that the model won’t be biased toward the majority class during training. \n",
    "#The visual format also helps in presenting the class balance clearly to stakeholders and provides confidence that the preprocessing step was effective.”\n",
    "\n",
    "plt.figure(figsize=(8,8))\n",
    "g=sns.countplot(x=\"Class\", data=dataset)\n",
    "plt.title('Countplot for Spam vs Ham')\n",
    "plt.xlabel('Is the SMS Spam?')\n",
    "plt.ylabel('Count')"
   ]
  },
  {
   "cell_type": "code",
   "execution_count": 19,
   "id": "8a6cd228-28e4-431a-bef2-04c922100845",
   "metadata": {},
   "outputs": [],
   "source": [
    "#This line adds a new feature — word count — by applying a lambda function to each message. \n",
    "#It calculates the number of words by splitting the text and taking the list’s length.\n",
    "#Word count is often a strong feature in text classification tasks like spam detection,\n",
    "#as spam messages may have distinct length patterns compared to ham messages. \n",
    "#This feature can help in exploratory data analysis and serve as an input to machine learning models. \n",
    "#While more advanced NLP techniques exist, this method is fast, interpretable, and forms a good starting point\n",
    "\n",
    "dataset['word_count']=dataset['Message'].apply(lambda x: len(x.split()))"
   ]
  },
  {
   "cell_type": "code",
   "execution_count": 20,
   "id": "037aa728-246b-4c35-958d-971a69458498",
   "metadata": {},
   "outputs": [
    {
     "data": {
      "text/html": [
       "<div>\n",
       "<style scoped>\n",
       "    .dataframe tbody tr th:only-of-type {\n",
       "        vertical-align: middle;\n",
       "    }\n",
       "\n",
       "    .dataframe tbody tr th {\n",
       "        vertical-align: top;\n",
       "    }\n",
       "\n",
       "    .dataframe thead th {\n",
       "        text-align: right;\n",
       "    }\n",
       "</style>\n",
       "<table border=\"1\" class=\"dataframe\">\n",
       "  <thead>\n",
       "    <tr style=\"text-align: right;\">\n",
       "      <th></th>\n",
       "      <th>Class</th>\n",
       "      <th>Message</th>\n",
       "      <th>word_count</th>\n",
       "    </tr>\n",
       "  </thead>\n",
       "  <tbody>\n",
       "    <tr>\n",
       "      <th>0</th>\n",
       "      <td>NaN</td>\n",
       "      <td>Message</td>\n",
       "      <td>1</td>\n",
       "    </tr>\n",
       "    <tr>\n",
       "      <th>1</th>\n",
       "      <td>0.0</td>\n",
       "      <td>Go until jurong point, crazy.. Available only ...</td>\n",
       "      <td>20</td>\n",
       "    </tr>\n",
       "    <tr>\n",
       "      <th>2</th>\n",
       "      <td>0.0</td>\n",
       "      <td>Ok lar... Joking wif u oni...</td>\n",
       "      <td>6</td>\n",
       "    </tr>\n",
       "    <tr>\n",
       "      <th>3</th>\n",
       "      <td>1.0</td>\n",
       "      <td>Free entry in 2 a wkly comp to win FA Cup fina...</td>\n",
       "      <td>28</td>\n",
       "    </tr>\n",
       "    <tr>\n",
       "      <th>4</th>\n",
       "      <td>0.0</td>\n",
       "      <td>U dun say so early hor... U c already then say...</td>\n",
       "      <td>11</td>\n",
       "    </tr>\n",
       "    <tr>\n",
       "      <th>...</th>\n",
       "      <td>...</td>\n",
       "      <td>...</td>\n",
       "      <td>...</td>\n",
       "    </tr>\n",
       "    <tr>\n",
       "      <th>5540</th>\n",
       "      <td>1.0</td>\n",
       "      <td>Want explicit SEX in 30 secs? Ring 02073162414...</td>\n",
       "      <td>16</td>\n",
       "    </tr>\n",
       "    <tr>\n",
       "      <th>5543</th>\n",
       "      <td>1.0</td>\n",
       "      <td>ASKED 3MOBILE IF 0870 CHATLINES INCLU IN FREE ...</td>\n",
       "      <td>33</td>\n",
       "    </tr>\n",
       "    <tr>\n",
       "      <th>5550</th>\n",
       "      <td>1.0</td>\n",
       "      <td>Had your contract mobile 11 Mnths? Latest Moto...</td>\n",
       "      <td>28</td>\n",
       "    </tr>\n",
       "    <tr>\n",
       "      <th>5569</th>\n",
       "      <td>1.0</td>\n",
       "      <td>REMINDER FROM O2: To get 2.50 pounds free call...</td>\n",
       "      <td>28</td>\n",
       "    </tr>\n",
       "    <tr>\n",
       "      <th>5570</th>\n",
       "      <td>1.0</td>\n",
       "      <td>This is the 2nd time we have tried 2 contact u...</td>\n",
       "      <td>30</td>\n",
       "    </tr>\n",
       "  </tbody>\n",
       "</table>\n",
       "<p>9310 rows × 3 columns</p>\n",
       "</div>"
      ],
      "text/plain": [
       "      Class                                            Message  word_count\n",
       "0       NaN                                            Message           1\n",
       "1       0.0  Go until jurong point, crazy.. Available only ...          20\n",
       "2       0.0                      Ok lar... Joking wif u oni...           6\n",
       "3       1.0  Free entry in 2 a wkly comp to win FA Cup fina...          28\n",
       "4       0.0  U dun say so early hor... U c already then say...          11\n",
       "...     ...                                                ...         ...\n",
       "5540    1.0  Want explicit SEX in 30 secs? Ring 02073162414...          16\n",
       "5543    1.0  ASKED 3MOBILE IF 0870 CHATLINES INCLU IN FREE ...          33\n",
       "5550    1.0  Had your contract mobile 11 Mnths? Latest Moto...          28\n",
       "5569    1.0  REMINDER FROM O2: To get 2.50 pounds free call...          28\n",
       "5570    1.0  This is the 2nd time we have tried 2 contact u...          30\n",
       "\n",
       "[9310 rows x 3 columns]"
      ]
     },
     "execution_count": 20,
     "metadata": {},
     "output_type": "execute_result"
    }
   ],
   "source": [
    "dataset"
   ]
  },
  {
   "cell_type": "code",
   "execution_count": 21,
   "id": "732cb2a9-f13e-4458-b56a-9698983db89a",
   "metadata": {},
   "outputs": [
    {
     "name": "stderr",
     "output_type": "stream",
     "text": [
      "C:\\Users\\HP\\anaconda3\\Lib\\site-packages\\seaborn\\_oldcore.py:1119: FutureWarning: use_inf_as_na option is deprecated and will be removed in a future version. Convert inf values to NaN before operating instead.\n",
      "  with pd.option_context('mode.use_inf_as_na', True):\n",
      "C:\\Users\\HP\\anaconda3\\Lib\\site-packages\\seaborn\\_oldcore.py:1119: FutureWarning: use_inf_as_na option is deprecated and will be removed in a future version. Convert inf values to NaN before operating instead.\n",
      "  with pd.option_context('mode.use_inf_as_na', True):\n"
     ]
    },
    {
     "data": {
      "image/png": "[encoded data removed]",
      "text/plain": [
       "<Figure size 1200x600 with 2 Axes>"
      ]
     },
     "metadata": {},
     "output_type": "display_data"
    }
   ],
   "source": [
    "#This code visualizes the distribution of word counts in SMS messages, separated by class. \n",
    "#The histograms help us understand whether message length is a discriminating feature for spam detection. \n",
    "#We see two separate plots: one for ham (non-spam) and one for spam messages.\n",
    "#By observing these distributions, we can infer if spam messages tend to be longer or follow a different length pattern. \n",
    "#This supports the hypothesis that message length can be a useful feature in a classification model, and helps with both EDA and feature validation.\n",
    "\n",
    "\n",
    "plt.figure(figsize=(12,6))\n",
    "plt.subplot(1,2,1)\n",
    "g=sns.histplot(dataset[dataset['Class']==0].word_count, kde=True)\n",
    "g=plt.title('Distribution of word_count for Ham SMS')\n",
    "plt.subplot(1,2,2)\n",
    "g=sns.histplot(dataset[dataset['Class']==1].word_count, color='red', kde=True)\n",
    "p=plt.title('Distribution of word_count for Spam SMS')\n",
    "plt.tight_layout()\n",
    "plt.show()"
   ]
  },
  {
   "cell_type": "code",
   "execution_count": 22,
   "id": "6142b386-e035-45b2-833a-1f9a9be76c76",
   "metadata": {},
   "outputs": [],
   "source": [
    "#The currency() function scans a text message to detect the presence of any major currency symbols like $, ₹, €, etc. If found, \n",
    "#it returns 1, otherwise 0. This is a form of feature engineering that flags messages potentially related to money, prizes, or transactions — \n",
    "#all of which are common in spam. It's a lightweight but effective binary feature that enhances the predictive power of spam detection models.\n",
    "#While regular expressions or NLP could be used for more advanced detection, this approach offers a great balance between simplicity and usefulness.\n",
    "\n",
    "def currency(data):\n",
    "    currency_symbols=['$','¥','€','₹','£']\n",
    "    for i in currency_symbols:\n",
    "        if i in data:\n",
    "            return 1\n",
    "    return 0    "
   ]
  },
  {
   "cell_type": "code",
   "execution_count": 23,
   "id": "0ea5b962-5179-41be-a8cb-1b075d634c4e",
   "metadata": {},
   "outputs": [],
   "source": [
    "#This line applies the currency() function across all messages to create a new binary feature — contains_currency_symbols. \n",
    "#It flags whether an SMS contains symbols like $, ₹, €, etc., which are often associated with spam content such as financial scams or prize claims.\n",
    "#This is a form of domain-driven feature engineering, helping the model learn context beyond raw text. \n",
    "#It’s particularly valuable in spam detection, where specific character patterns can strongly indicate class membership.\n",
    "\n",
    "dataset['contains_currency_symbols']=dataset['Message'].apply(currency)"
   ]
  },
  {
   "cell_type": "code",
   "execution_count": 24,
   "id": "887875a1-0ef4-48d2-b5af-5e056cdabf80",
   "metadata": {},
   "outputs": [
    {
     "data": {
      "text/html": [
       "<div>\n",
       "<style scoped>\n",
       "    .dataframe tbody tr th:only-of-type {\n",
       "        vertical-align: middle;\n",
       "    }\n",
       "\n",
       "    .dataframe tbody tr th {\n",
       "        vertical-align: top;\n",
       "    }\n",
       "\n",
       "    .dataframe thead th {\n",
       "        text-align: right;\n",
       "    }\n",
       "</style>\n",
       "<table border=\"1\" class=\"dataframe\">\n",
       "  <thead>\n",
       "    <tr style=\"text-align: right;\">\n",
       "      <th></th>\n",
       "      <th>Class</th>\n",
       "      <th>Message</th>\n",
       "      <th>word_count</th>\n",
       "      <th>contains_currency_symbols</th>\n",
       "    </tr>\n",
       "  </thead>\n",
       "  <tbody>\n",
       "    <tr>\n",
       "      <th>0</th>\n",
       "      <td>NaN</td>\n",
       "      <td>Message</td>\n",
       "      <td>1</td>\n",
       "      <td>0</td>\n",
       "    </tr>\n",
       "    <tr>\n",
       "      <th>1</th>\n",
       "      <td>0.0</td>\n",
       "      <td>Go until jurong point, crazy.. Available only ...</td>\n",
       "      <td>20</td>\n",
       "      <td>0</td>\n",
       "    </tr>\n",
       "    <tr>\n",
       "      <th>2</th>\n",
       "      <td>0.0</td>\n",
       "      <td>Ok lar... Joking wif u oni...</td>\n",
       "      <td>6</td>\n",
       "      <td>0</td>\n",
       "    </tr>\n",
       "    <tr>\n",
       "      <th>3</th>\n",
       "      <td>1.0</td>\n",
       "      <td>Free entry in 2 a wkly comp to win FA Cup fina...</td>\n",
       "      <td>28</td>\n",
       "      <td>0</td>\n",
       "    </tr>\n",
       "    <tr>\n",
       "      <th>4</th>\n",
       "      <td>0.0</td>\n",
       "      <td>U dun say so early hor... U c already then say...</td>\n",
       "      <td>11</td>\n",
       "      <td>0</td>\n",
       "    </tr>\n",
       "    <tr>\n",
       "      <th>...</th>\n",
       "      <td>...</td>\n",
       "      <td>...</td>\n",
       "      <td>...</td>\n",
       "      <td>...</td>\n",
       "    </tr>\n",
       "    <tr>\n",
       "      <th>5540</th>\n",
       "      <td>1.0</td>\n",
       "      <td>Want explicit SEX in 30 secs? Ring 02073162414...</td>\n",
       "      <td>16</td>\n",
       "      <td>0</td>\n",
       "    </tr>\n",
       "    <tr>\n",
       "      <th>5543</th>\n",
       "      <td>1.0</td>\n",
       "      <td>ASKED 3MOBILE IF 0870 CHATLINES INCLU IN FREE ...</td>\n",
       "      <td>33</td>\n",
       "      <td>1</td>\n",
       "    </tr>\n",
       "    <tr>\n",
       "      <th>5550</th>\n",
       "      <td>1.0</td>\n",
       "      <td>Had your contract mobile 11 Mnths? Latest Moto...</td>\n",
       "      <td>28</td>\n",
       "      <td>0</td>\n",
       "    </tr>\n",
       "    <tr>\n",
       "      <th>5569</th>\n",
       "      <td>1.0</td>\n",
       "      <td>REMINDER FROM O2: To get 2.50 pounds free call...</td>\n",
       "      <td>28</td>\n",
       "      <td>0</td>\n",
       "    </tr>\n",
       "    <tr>\n",
       "      <th>5570</th>\n",
       "      <td>1.0</td>\n",
       "      <td>This is the 2nd time we have tried 2 contact u...</td>\n",
       "      <td>30</td>\n",
       "      <td>1</td>\n",
       "    </tr>\n",
       "  </tbody>\n",
       "</table>\n",
       "<p>9310 rows × 4 columns</p>\n",
       "</div>"
      ],
      "text/plain": [
       "      Class                                            Message  word_count  \\\n",
       "0       NaN                                            Message           1   \n",
       "1       0.0  Go until jurong point, crazy.. Available only ...          20   \n",
       "2       0.0                      Ok lar... Joking wif u oni...           6   \n",
       "3       1.0  Free entry in 2 a wkly comp to win FA Cup fina...          28   \n",
       "4       0.0  U dun say so early hor... U c already then say...          11   \n",
       "...     ...                                                ...         ...   \n",
       "5540    1.0  Want explicit SEX in 30 secs? Ring 02073162414...          16   \n",
       "5543    1.0  ASKED 3MOBILE IF 0870 CHATLINES INCLU IN FREE ...          33   \n",
       "5550    1.0  Had your contract mobile 11 Mnths? Latest Moto...          28   \n",
       "5569    1.0  REMINDER FROM O2: To get 2.50 pounds free call...          28   \n",
       "5570    1.0  This is the 2nd time we have tried 2 contact u...          30   \n",
       "\n",
       "      contains_currency_symbols  \n",
       "0                             0  \n",
       "1                             0  \n",
       "2                             0  \n",
       "3                             0  \n",
       "4                             0  \n",
       "...                         ...  \n",
       "5540                          0  \n",
       "5543                          1  \n",
       "5550                          0  \n",
       "5569                          0  \n",
       "5570                          1  \n",
       "\n",
       "[9310 rows x 4 columns]"
      ]
     },
     "execution_count": 24,
     "metadata": {},
     "output_type": "execute_result"
    }
   ],
   "source": [
    "dataset"
   ]
  },
  {
   "cell_type": "code",
   "execution_count": 27,
   "id": "aabd1187-0d0a-4760-ae87-4ff08b1d51da",
   "metadata": {},
   "outputs": [
    {
     "data": {
      "text/plain": [
       "<matplotlib.legend.Legend at 0x24441bbacd0>"
      ]
     },
     "execution_count": 27,
     "metadata": {},
     "output_type": "execute_result"
    },
    {
     "data": {
      "image/png": "[encoded data removed]",
      "text/plain": [
       "<Figure size 800x800 with 1 Axes>"
      ]
     },
     "metadata": {},
     "output_type": "display_data"
    }
   ],
   "source": [
    "#This plot examines the relationship between the presence of currency symbols and the SMS class (Ham or Spam).\n",
    "#We map binary class labels to readable strings and visualize counts grouped by whether a message contains any currency symbols.\n",
    "#If the number of spam messages with currency symbols is significantly higher, it supports the idea that this feature is a strong spam indicator. \n",
    "#Such visualizations are crucial during feature selection to ensure that engineered variables are actually meaningful for the target classification task.\n",
    "\n",
    "\n",
    "dataset['Class'] = dataset['Class'].map({0: 'Ham', 1: 'Spam'})\n",
    "\n",
    "plt.figure(figsize=(8,8))\n",
    "g = sns.countplot(x='contains_currency_symbols', data=dataset, hue='Class')\n",
    "plt.title('Countplot for Containing Currency Symbols')\n",
    "plt.xlabel('Does SMS contain any currency symbol?')\n",
    "plt.ylabel('Count')\n",
    "plt.legend(labels=['Ham', 'Spam'], loc='upper center')\n"
   ]
  },
  {
   "cell_type": "code",
   "execution_count": null,
   "id": "f840949d-cca0-47a4-9094-3e82afecb817",
   "metadata": {},
   "outputs": [],
   "source": [
    "#This function scans each message to check whether it contains any numeric digit.\n",
    "#Since spam messages often contain numbers — such as prize amounts, phone numbers, or promo codes —\n",
    "# the presence of digits can be a strong signal for spam classification. \n",
    "#The function returns 1 if any digit is found, otherwise 0, making it a simple binary feature. \n",
    "#Although ord() is used here to detect digits by ASCII values, Python's built-in str.isdigit() would be a more readable and idiomatic alternative.\n",
    "\n",
    "def number(data):\n",
    "    for i in data:\n",
    "        if(ord(i)>=48 and ord(i)<=57):\n",
    "            return 1\n",
    "    return 0"
   ]
  },
  {
   "cell_type": "code",
   "execution_count": null,
   "id": "506dbcb9-6840-40ce-8ea6-99128fb69d5f",
   "metadata": {},
   "outputs": [],
   "source": [
    "#This line applies the number() function to check whether each SMS message contains any numeric digits and\n",
    "#creates a new binary feature called contains_number.\n",
    "#Since many spam messages include phone numbers, prize amounts, or promo codes, the presence of digits can be a strong spam indicator.\n",
    "#This feature helps the model capture a simple but meaningful signal that complements traditional text-based features.\n",
    "\n",
    "dataset['contains_number']=dataset['Message'].apply(number)"
   ]
  },
  {
   "cell_type": "code",
   "execution_count": null,
   "id": "b55fddbd-ab57-4b92-8f64-c658e8e29fb5",
   "metadata": {},
   "outputs": [],
   "source": [
    "dataset"
   ]
  },
  {
   "cell_type": "code",
   "execution_count": null,
   "id": "dc1f42b4-37ff-4f2f-854f-96ab8642571b",
   "metadata": {},
   "outputs": [],
   "source": [
    "#This plot visualizes how the presence of numeric digits in SMS messages varies between spam and ham messages. \n",
    "#By grouping on the binary feature contains_number and using hue for class labels, \n",
    "#we can clearly observe whether spam messages are more likely to include numbers.\n",
    "#This helps validate our hypothesis and demonstrates that contains_number is a meaningful predictive feature. \n",
    "#Visual validation like this is crucial in the feature engineering pipeline before model training.\n",
    "\n",
    "plt.figure(figsize=(8,8))\n",
    "g=sns.countplot(x='contains_number', data=dataset, hue='Class')\n",
    "plt.title('Countplot for containig numbers')\n",
    "plt.xlabel('Does SMS contain any number?')\n",
    "plt.ylabel('count')\n",
    "plt.legend(labels=['Ham','Spam'],loc=9)"
   ]
  },
  {
   "cell_type": "code",
   "execution_count": null,
   "id": "21f6d3e8-7e82-4fac-b4f4-ebff995b66fa",
   "metadata": {},
   "outputs": [],
   "source": [
    "import nltk\n",
    "import re \n",
    "nltk.download('stopwords')\n",
    "nltk.download('wordnet')\n",
    "from nltk.corpus import stopwords\n",
    "from nltk.stem import WordNetLemmatizer"
   ]
  },
  {
   "cell_type": "code",
   "execution_count": null,
   "id": "32fd94bd-17e7-4cc0-88a4-bca3d00aceea",
   "metadata": {},
   "outputs": [],
   "source": [
    "#This block processes raw SMS messages into a clean, standardized format suitable for vectorization and machine learning.\n",
    "#It removes non-alphabetic characters, lowercases text, eliminates stopwords, and lemmatizes words to their base form.\n",
    "#These steps reduce noise, unify vocabulary, and help the model generalize better. \n",
    "#The resulting ‘corpus’ is a list of cleaned messages that can be passed into vectorizers like TF-IDF for feature extraction. \n",
    "#This preprocessing pipeline is essential for transforming unstructured text into meaningful numerical features.\n",
    "\n",
    "corpus=[]\n",
    "wnl=WordNetLemmatizer()\n",
    "for sms in list(dataset.Message):\n",
    "    Message=re.sub(pattern='[^a-zA-z]',repl=' ',string=sms)\n",
    "    Message=Message.lower()\n",
    "    words=Message.split()\n",
    "    filtered_words=[word for word in words if word not in set(stopwords.words('english'))]\n",
    "    lemm_words=[wnl.lemmatize(word) for word in filtered_words]\n",
    "    Message=' '.join(lemm_words)\n",
    "    corpus.append(Message)"
   ]
  },
  {
   "cell_type": "code",
   "execution_count": null,
   "id": "1ce57510-0d40-4f6c-bed5-401a7baa0d9a",
   "metadata": {
    "scrolled": true
   },
   "outputs": [],
   "source": [
    "corpus"
   ]
  },
  {
   "cell_type": "code",
   "execution_count": null,
   "id": "8bb1f4ab-961c-4399-8538-a9ec337c5737",
   "metadata": {},
   "outputs": [],
   "source": [
    "#We use TfidfVectorizer to convert preprocessed SMS messages into numerical vectors\n",
    "#that reflect how important each word is in a message relative to the entire dataset.\n",
    "#By setting max_features=500, we retain only the most informative terms, improving both model performance and training speed. \n",
    "#The resulting matrix is then used as input for our machine learning models.\n",
    "#TF-IDF is effective in text classification problems like spam detection because it emphasizes distinctive words while downplaying common ones.\n",
    "\n",
    "from sklearn.feature_extraction.text import TfidfVectorizer\n",
    "tfidf=TfidfVectorizer(max_features=500)\n",
    "vectors=tfidf.fit_transform(corpus).toarray()\n",
    "feature_names=tfidf.get_feature_names_out()"
   ]
  },
  {
   "cell_type": "code",
   "execution_count": null,
   "id": "5a35f70b-18ba-4a80-aae6-0ed8317ecddc",
   "metadata": {},
   "outputs": [],
   "source": [
    "#This step separates our dataset into the features (X) and the target (y). \n",
    "#The features are built from the TF-IDF representation of SMS messages, allowing us to use statistical weights for each word.\n",
    "#We convert this into a Pandas DataFrame for better readability and compatibility with scikit-learn. \n",
    "#The target variable is the class label indicating whether a message is spam or not.\n",
    "#This structure is essential for training and evaluating classification models.\n",
    "\n",
    "X=pd.DataFrame(vectors, columns=feature_names)\n",
    "y=dataset['Class']"
   ]
  },
  {
   "cell_type": "code",
   "execution_count": null,
   "id": "5b912c0c-5d14-4e6a-942c-5dc6c0c75e8d",
   "metadata": {},
   "outputs": [],
   "source": [
    "#These imports set up the tools for model evaluation and validation. train_test_split ensures that we can evaluate our model on unseen data,\n",
    "#which helps prevent overfitting. cross_val_score provides a more robust performance estimate by testing across multiple folds of the dataset. \n",
    "#For model performance metrics, confusion_matrix and classification_report help quantify how well our model distinguishes between\n",
    "#spam and ham messages in terms of precision, recall, and overall accuracy.\n",
    "\n",
    "from sklearn.model_selection import  cross_val_score, train_test_split\n",
    "from sklearn.metrics import classification_report, confusion_matrix"
   ]
  },
  {
   "cell_type": "code",
   "execution_count": null,
   "id": "facb1bcd-83fb-405e-be79-4f5f31b37707",
   "metadata": {},
   "outputs": [],
   "source": [
    "#This line splits the dataset into training and testing subsets using an 80-20 split. \n",
    "#It ensures that the model learns patterns from the training data and is evaluated fairly on unseen data from the test set. \n",
    "#Setting random_state=42 guarantees consistent results across runs.\n",
    "#This is a standard and essential practice in machine learning to assess a model’s ability to generalize.\n",
    "\n",
    "X_train, X_test, y_train, y_test=train_test_split(X, y, test_size=0.2, random_state=42)"
   ]
  },
  {
   "cell_type": "code",
   "execution_count": null,
   "id": "be91d32e-0924-403b-8b33-33b0f1f4bc1f",
   "metadata": {},
   "outputs": [],
   "source": [
    "X_test"
   ]
  },
  {
   "cell_type": "code",
   "execution_count": null,
   "id": "330701ff-1542-4214-9c6b-717c79439423",
   "metadata": {},
   "outputs": [],
   "source": [
    "#We train a Multinomial Naive Bayes classifier on TF-IDF vectorized text data,\n",
    "#which is particularly suited for handling frequency-based features in spam detection. \n",
    "#To ensure robust performance evaluation, we apply 10-fold cross-validation using the F1-score, which balances precision and recall. \n",
    "#This setup allows us to estimate how well the model will generalize to new, unseen messages,\n",
    "#while the standard deviation tells us about the model’s consistency across different data splits.\n",
    "\n",
    "y = y.dropna()\n",
    "X = X.loc[y.index]\n",
    "from sklearn.naive_bayes import MultinomialNB\n",
    "mnb=MultinomialNB()\n",
    "cv=cross_val_score(mnb, X, y, scoring='f1', cv=10)\n",
    "print(round(cv.mean(),3))\n",
    "print(round(cv.std(),3))"
   ]
  },
  {
   "cell_type": "code",
   "execution_count": null,
   "id": "a7f2a27d-0044-4eaf-8375-82d12ba1af69",
   "metadata": {},
   "outputs": [],
   "source": [
    "#Here, we train the Multinomial Naive Bayes model on our TF-IDF feature matrix using the training dataset.\n",
    "#This model estimates the likelihood of each word occurring in spam vs. ham messages and applies Bayes' theorem to make predictions. \n",
    "#Once trained, we use it to predict labels for the test set. \n",
    "#This helps us evaluate the model's generalization capability on unseen data — which is crucial for real-world applications\n",
    "#like detecting spam in new SMS messages.\n",
    "\n",
    "mnb.fit(X_train, y_train)\n",
    "y_pred=mnb.predict(X_test)"
   ]
  },
  {
   "cell_type": "code",
   "execution_count": null,
   "id": "9d6309fd-1f71-436e-973d-f55ea94af7fc",
   "metadata": {},
   "outputs": [],
   "source": [
    "#Here, we evaluate the model’s predictions against the true test labels using the classification_report from scikit-learn. \n",
    "#We ensure that the test labels are clean and that predictions are aligned in length. \n",
    "#The report gives us precision, recall, and F1-score for both spam and ham messages,\n",
    "#which are critical in applications like spam filtering where both false positives and false negatives can be problematic. \n",
    "#The F1-score, in particular, provides a balanced measure of the model’s ability to correctly classify messages.\n",
    "\n",
    "y_test = y_test.dropna()\n",
    "y_pred = y_pred[:len(y_test.index)]\n",
    "print(classification_report(y_test, y_pred))"
   ]
  },
  {
   "cell_type": "code",
   "execution_count": null,
   "id": "ca4e9848-c494-4b6f-91b3-a427c228a854",
   "metadata": {},
   "outputs": [],
   "source": [
    "#This confusion matrix breaks down the actual vs. predicted classifications into true positives, false positives, true negatives, and false negatives.\n",
    "#In the context of spam detection, this lets us clearly see how many spam messages were missed (false negatives)\n",
    "#or how many legitimate messages were incorrectly flagged (false positives). \n",
    "#This matrix is a great diagnostic tool to fine-tune thresholds or choose models that better align with the business priority — \n",
    "#whether that's minimizing spam leakage or avoiding false alarms.\n",
    "\n",
    "cm=confusion_matrix(y_test, y_pred)\n",
    "cm"
   ]
  },
  {
   "cell_type": "code",
   "execution_count": null,
   "id": "6f352e67-acde-460d-8355-498adccc0716",
   "metadata": {},
   "outputs": [],
   "source": [
    "#This heatmap visually represents the confusion matrix for the Multinomial Naive Bayes classifier.\n",
    "#The diagonal elements show the number of correctly predicted spam and ham messages,\n",
    "#while the off-diagonal elements reveal the types of misclassifications. \n",
    "#This helps assess whether the model is more prone to false positives or false negatives,\n",
    "#which is crucial in use cases like spam filtering where different types of errors have different impacts. \n",
    "#The color gradient further emphasizes the count intensity, making this a highly intuitive evaluation tool.\n",
    "\n",
    "plt.figure(figsize=(8,8))\n",
    "axis_labels=['ham', 'spam']\n",
    "g=sns.heatmap(data=cm, xticklabels=axis_labels, yticklabels=axis_labels, annot=True, fmt='g', cbar_kws={'shrink':0.5}, cmap='Blues')\n",
    "plt.title('Confusion Matrix of Multinomial Naive Bayes Model')\n",
    "plt.xlabel('Actual Value')\n",
    "plt.ylabel('Predicted Value')"
   ]
  },
  {
   "cell_type": "code",
   "execution_count": null,
   "id": "ad9fb9a2-a3da-4758-9520-990dc6a2fdd5",
   "metadata": {},
   "outputs": [],
   "source": [
    "#Here, we evaluate a Decision Tree classifier using 10-fold cross-validation and the F1-score as our metric. \n",
    "#Decision Trees are intuitive and interpretable models, but in high-dimensional, sparse datasets like TF-IDF vectors from SMS messages, \n",
    "#they tend to overfit unless regularized. The cross-validation gives us a robust estimate of its generalization performance. \n",
    "#We print both the average and the variability (standard deviation) of the F1-score to understand model reliability.\n",
    "\n",
    "from sklearn.tree import DecisionTreeClassifier\n",
    "dt=DecisionTreeClassifier()\n",
    "cv1=cross_val_score(dt, X, y, scoring='f1', cv=10)\n",
    "print(round(cv1.mean(), 3))\n",
    "print(round(cv1.std(), 3))"
   ]
  },
  {
   "cell_type": "code",
   "execution_count": null,
   "id": "2e0dc253-02d9-42ce-bb2b-d3b6735e7e24",
   "metadata": {},
   "outputs": [],
   "source": [
    "#We train the Decision Tree classifier on TF-IDF-transformed SMS data to learn splitting rules that classify messages as spam or ham. \n",
    "#Once trained, we predict the labels of the test set. Although Decision Trees offer interpretability, \n",
    "#they often overfit in high-dimensional sparse text data unless regularized.\n",
    "#Still, it’s a useful benchmark to compare against other models like Naive Bayes or Logistic Regression.\n",
    "\n",
    "dt.fit(X_train, y_train)\n",
    "y_pred1=dt.predict(X_test)"
   ]
  },
  {
   "cell_type": "code",
   "execution_count": null,
   "id": "1e94adfd-a445-4a0d-8233-550f68ff12ef",
   "metadata": {},
   "outputs": [],
   "source": [
    "#We first ensure that the prediction and ground truth arrays are aligned in length, which is essential before computing performance metrics.\n",
    "#We then use the classification report to get a detailed evaluation of our Decision Tree model in terms of precision, recall, and F1-score. \n",
    "#These metrics help us understand how effectively the model distinguishes spam from ham,\n",
    "#especially in handling false positives and false negatives — both of which have significant impact in spam detection systems.\n",
    "\n",
    "if len(y_test) != len(y_pred1):\n",
    "    print(\"Resizing y_pred1 to match the length of y_test.\")\n",
    "    y_pred1 = y_pred1[:len(y_test)]\n",
    "print(classification_report(y_test, y_pred1))"
   ]
  },
  {
   "cell_type": "code",
   "execution_count": null,
   "id": "acfe1dc9-c307-4c7f-bbe8-bcac79661ecd",
   "metadata": {},
   "outputs": [],
   "source": [
    "#This confusion matrix allows us to assess the model's performance beyond aggregate metrics.\n",
    "#In spam detection, false positives result in legitimate messages being marked as spam, which frustrates users,\n",
    "#while false negatives allow spam to slip through. By examining true positives, false positives, false negatives, and true negatives,\n",
    "#we can decide whether our model is leaning toward over-caution or under-detection — and accordingly adjust thresholds or try other models.\n",
    "\n",
    "cm=confusion_matrix(y_test, y_pred1)\n",
    "cm"
   ]
  },
  {
   "cell_type": "code",
   "execution_count": null,
   "id": "f638f00e-93b5-4d7f-86c2-f4bb6099afb8",
   "metadata": {},
   "outputs": [],
   "source": [
    "#This heatmap visualizes the confusion matrix for our classifier, showing how often the model correctly or incorrectly classifies spam and ham messages.\n",
    "#The diagonal elements reflect correct predictions, while off-diagonal elements indicate misclassifications.\n",
    "#Using a visual format like this enhances interpretability and highlights specific areas of model weakness,\n",
    "#such as whether the model is overly cautious or overly lenient in labeling spam.\n",
    "\n",
    "plt.figure(figsize=(8,8))\n",
    "axis_labels=['ham', 'spam']\n",
    "g=sns.heatmap(data=cm, xticklabels=axis_labels, yticklabels=axis_labels, annot=True, fmt='g', cbar_kws={'shrink':0.5}, cmap='Blues')\n",
    "plt.title('Confusion Matrix of Multinomial Naive Bayes Model')\n",
    "plt.xlabel('Actual Value')\n",
    "plt.ylabel('Predicted Value')"
   ]
  },
  {
   "cell_type": "code",
   "execution_count": null,
   "id": "4b0e6d03-6942-446a-84bb-11ebbdf4a2a7",
   "metadata": {},
   "outputs": [],
   "source": [
    "#This heatmap displays the confusion matrix, allowing us to see how well the model distinguishes between spam and ham. \n",
    "#The diagonal shows correct predictions, while off-diagonal entries highlight misclassifications.\n",
    "#Visualizing the matrix helps detect if the model is being too aggressive in flagging spam or too lenient in letting it through — \n",
    "#critical in applications like spam filtering. \n",
    "#This format is not only insightful but also highly presentable, making it ideal for both analysis and communication.\n",
    "\n",
    "def predict_spam(sms):\n",
    "    Message=re.sub(pattern='[^a-zA-Z]',repl=' ', string=sms)\n",
    "    Message=Message.lower()\n",
    "    filtered_words=[word for word in words if word not in set(stopwords.words('english'))]\n",
    "    lemm_words=[wnl.lemmatize(word) for word in filtered_words]\n",
    "    Message=' '.join(lemm_words)\n",
    "    temp=tfidf.transform([Message]).toarray()\n",
    "    return dt.predict(temp)"
   ]
  },
  {
   "cell_type": "code",
   "execution_count": null,
   "id": "143dcfa9-d45a-454b-8f0a-2f9a71ab38a5",
   "metadata": {},
   "outputs": [],
   "source": [
    "#This code checks how the model performs on a real-world style message. \n",
    "#It passes the text through the same preprocessing and vectorization pipeline used during training,\n",
    "#and then makes a prediction using the trained classifier. \n",
    "#This kind of manual test is helpful for validating if the model generalizes well and catches typical spam patterns — such as use of compensation offers,\n",
    "#financial terms, or currency symbols.\n",
    "\n",
    "sample_message='IMPORTANT - You could be entitled up to £3,160 in compensation from mis-sold PPI on a credit card or loan. '\n",
    "if predict_spam(sample_message):\n",
    "    print('Gotcha! This is a spam message')\n",
    "else: \n",
    "    print('This is a HAM (normal) message')"
   ]
  },
  {
   "cell_type": "code",
   "execution_count": null,
   "id": "44805e6e-fdbf-4b98-8831-223d224abb25",
   "metadata": {},
   "outputs": [],
   "source": []
  },
  {
   "cell_type": "code",
   "execution_count": null,
   "id": "26f1f336-139e-412c-9d1f-0e05b2c0d121",
   "metadata": {},
   "outputs": [],
   "source": []
  }
 ],
 "metadata": {
  "kernelspec": {
   "display_name": "Python 3 (ipykernel)",
   "language": "python",
   "name": "python3"
  },
  "language_info": {
   "codemirror_mode": {
    "name": "ipython",
    "version": 3
   },
   "file_extension": ".py",
   "mimetype": "text/x-python",
   "name": "python",
   "nbconvert_exporter": "python",
   "pygments_lexer": "ipython3",
   "version": "3.11.7"
  }
 },
 "nbformat": 4,
 "nbformat_minor": 5
}
